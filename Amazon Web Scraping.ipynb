{
 "cells": [
  {
   "cell_type": "markdown",
   "id": "1db75ace",
   "metadata": {},
   "source": [
    "# Amazon Web Scraper Project"
   ]
  },
  {
   "cell_type": "code",
   "execution_count": 32,
   "id": "1e66832d",
   "metadata": {},
   "outputs": [],
   "source": [
    "#libraries \n",
    "from bs4 import BeautifulSoup\n",
    "import requests\n",
    "import smtplib\n",
    "import time\n",
    "import datetime\n",
    "import csv"
   ]
  },
  {
   "cell_type": "code",
   "execution_count": 20,
   "id": "5e5a03a0",
   "metadata": {},
   "outputs": [
    {
     "name": "stdout",
     "output_type": "stream",
     "text": [
      "\n",
      "                Funny Got Data MIS Data Systems Business Analyst T-Shirt\n",
      "               \n",
      "\n",
      "               $16.99\n",
      "              \n"
     ]
    }
   ],
   "source": [
    "#connect to amazon and pull data from product listing of your interest\n",
    "\n",
    "URL='https://www.amazon.com/Funny-Data-Systems-Business-Analyst/dp/B07FNW9FGJ/ref=sr_1_2?crid=32Y3JAETROHM2&keywords=got+data+t+shirt&qid=1678981976&sprefix=got+data+t+shir%2Caps%2C95&sr=8-2'\n",
    "\n",
    "headers= {\"User-Agent\": \"Mozilla/5.0 (Windows NT 10.0; Win64; x64) AppleWebKit/537.36 (KHTML, like Gecko) Chrome/111.0.0.0 Safari/537.36\", \"Accept-Encoding\":\"gzip, deflate\", \"Accept\":\"text/html,application/xhtml+xml,application/xml;q=0.9,*/*;q=0.8\", \"DNT\":\"1\",\"Connection\":\"close\", \"Upgrade-Insecure-Requests\":\"1\"}\n",
    "\n",
    "page = requests.get(URL, headers=headers)\n",
    "\n",
    "soup1 = BeautifulSoup(page.content, 'html.parser')\n",
    "\n",
    "soup2 = BeautifulSoup(soup1.prettify(), 'html.parser')\n",
    "\n",
    "title = soup2.find(id='productTitle').get_text()\n",
    "\n",
    "price = soup2.find(class_='a-offscreen').get_text()\n",
    "\n",
    "print(title)\n",
    "print(price)\n"
   ]
  },
  {
   "cell_type": "code",
   "execution_count": 22,
   "id": "5cac2528",
   "metadata": {},
   "outputs": [
    {
     "name": "stdout",
     "output_type": "stream",
     "text": [
      "Funny Got Data MIS Data Systems Business Analyst T-Shirt\n",
      "16.99\n"
     ]
    }
   ],
   "source": [
    "# Cleaning up the data\n",
    "price = price.strip()[1:]\n",
    "title= title.strip()\n",
    "print(title)\n",
    "print(price)"
   ]
  },
  {
   "cell_type": "code",
   "execution_count": 23,
   "id": "5baa6f25",
   "metadata": {},
   "outputs": [
    {
     "name": "stdout",
     "output_type": "stream",
     "text": [
      "2023-03-16\n"
     ]
    }
   ],
   "source": [
    "today = datetime.date.today()\n",
    "\n",
    "print(today)"
   ]
  },
  {
   "cell_type": "code",
   "execution_count": 25,
   "id": "d039aa0e",
   "metadata": {},
   "outputs": [],
   "source": [
    "# Create CSV file and write headers and price data in the file\n",
    "header = ['Title', 'Price', 'Date']\n",
    "data= [title,price, today]\n",
    "\n",
    "with open('AmazonScraperData.csv', 'w', newline='', encoding= 'UTF8') as f:\n",
    "    writer = csv.writer(f)\n",
    "    writer.writerow(header)\n",
    "    writer.writerow(data)\n"
   ]
  },
  {
   "cell_type": "code",
   "execution_count": null,
   "id": "a8242a2d",
   "metadata": {},
   "outputs": [],
   "source": [
    "#type (data) C:\\Users\\Andrea Medina"
   ]
  },
  {
   "cell_type": "code",
   "execution_count": 29,
   "id": "f6535247",
   "metadata": {},
   "outputs": [
    {
     "name": "stdout",
     "output_type": "stream",
     "text": [
      "                                               Title  Price        Date\n",
      "0  Funny Got Data MIS Data Systems Business Analy...  16.99  2023-03-16\n",
      "1  Funny Got Data MIS Data Systems Business Analy...  16.99  2023-03-16\n",
      "2  Funny Got Data MIS Data Systems Business Analy...  16.99  2023-03-16\n"
     ]
    }
   ],
   "source": [
    "import pandas as pd\n",
    "\n",
    "df = pd.read_csv(r'C:\\Users\\Andrea Medina\\AmazonScraperData.csv')\n",
    "\n",
    "print(df)"
   ]
  },
  {
   "cell_type": "code",
   "execution_count": 28,
   "id": "abd87918",
   "metadata": {},
   "outputs": [],
   "source": [
    "#Append price data to the csv\n",
    "\n",
    "with open('AmazonScraperData.csv', 'a+', newline='', encoding='UTF8') as f:\n",
    "    writer = csv.writer(f)\n",
    "    writer.writerow(data)"
   ]
  },
  {
   "cell_type": "code",
   "execution_count": 33,
   "id": "8daf7337",
   "metadata": {},
   "outputs": [],
   "source": [
    "#Put all the code together\n",
    "\n",
    "def check_price():\n",
    "    URL='https://www.amazon.com/Funny-Data-Systems-Business-Analyst/dp/B07FNW9FGJ/ref=sr_1_2?crid=32Y3JAETROHM2&keywords=got+data+t+shirt&qid=1678981976&sprefix=got+data+t+shir%2Caps%2C95&sr=8-2'\n",
    "\n",
    "    headers= {\"User-Agent\": \"Mozilla/5.0 (Windows NT 10.0; Win64; x64) AppleWebKit/537.36 (KHTML, like Gecko) Chrome/111.0.0.0 Safari/537.36\", \"Accept-Encoding\":\"gzip, deflate\", \"Accept\":\"text/html,application/xhtml+xml,application/xml;q=0.9,*/*;q=0.8\", \"DNT\":\"1\",\"Connection\":\"close\", \"Upgrade-Insecure-Requests\":\"1\"}\n",
    "\n",
    "    page = requests.get(URL, headers=headers)\n",
    "\n",
    "    soup1 = BeautifulSoup(page.content, 'html.parser')\n",
    "\n",
    "    soup2 = BeautifulSoup(soup1.prettify(), 'html.parser')\n",
    "\n",
    "    title = soup2.find(id='productTitle').get_text()\n",
    "\n",
    "    price = soup2.find(class_='a-offscreen').get_text()\n",
    "    \n",
    "    price = price.strip()[1:]\n",
    "    title= title.strip()\n",
    "    \n",
    "    today = datetime.date.today()\n",
    "    \n",
    "    header = ['Title', 'Price', 'Date']\n",
    "    data= [title,price, today]\n",
    "    \n",
    "    with open('AmazonScraperData.csv', 'a+', newline='', encoding='UTF8') as f:\n",
    "        writer = csv.writer(f)\n",
    "        writer.writerow(data)"
   ]
  },
  {
   "cell_type": "code",
   "execution_count": null,
   "id": "d25ab1f3",
   "metadata": {},
   "outputs": [],
   "source": [
    "#Write the data into your file and run the function check_price how often you like\n",
    "\n",
    "while(True):\n",
    "    check_price()\n",
    "    time.sleep(172800) #48 hours\n"
   ]
  },
  {
   "cell_type": "code",
   "execution_count": 34,
   "id": "a2838d85",
   "metadata": {},
   "outputs": [
    {
     "name": "stdout",
     "output_type": "stream",
     "text": [
      "                                               Title  Price        Date\n",
      "0  Funny Got Data MIS Data Systems Business Analy...  16.99  2023-03-16\n",
      "1  Funny Got Data MIS Data Systems Business Analy...  16.99  2023-03-16\n",
      "2  Funny Got Data MIS Data Systems Business Analy...  16.99  2023-03-16\n"
     ]
    }
   ],
   "source": [
    "#Print the information saved to the CVS file\n",
    "import pandas as pd\n",
    "\n",
    "df = pd.read_csv(r'C:\\Users\\Andrea Medina\\AmazonScraperData.csv')\n",
    "\n",
    "print(df)"
   ]
  },
  {
   "cell_type": "code",
   "execution_count": null,
   "id": "6fd66992",
   "metadata": {},
   "outputs": [],
   "source": []
  }
 ],
 "metadata": {
  "kernelspec": {
   "display_name": "Python 3 (ipykernel)",
   "language": "python",
   "name": "python3"
  },
  "language_info": {
   "codemirror_mode": {
    "name": "ipython",
    "version": 3
   },
   "file_extension": ".py",
   "mimetype": "text/x-python",
   "name": "python",
   "nbconvert_exporter": "python",
   "pygments_lexer": "ipython3",
   "version": "3.9.13"
  }
 },
 "nbformat": 4,
 "nbformat_minor": 5
}
